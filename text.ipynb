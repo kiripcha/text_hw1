{
  "cells": [
    {
      "cell_type": "markdown",
      "id": "f83fe218",
      "metadata": {
        "id": "f83fe218"
      },
      "source": [
        "pymorphy - для токенизации\n",
        "\n",
        "nltk - для нормализации\n",
        "\n",
        "fuzzywuzzy - для нечеткого поиска (для законов)"
      ]
    },
    {
      "cell_type": "markdown",
      "id": "efd45e14",
      "metadata": {},
      "source": [
        "- pymorphy3 - морфологический анализ русского языка\n",
        "- NLTK - токенизация и обработка текста\n",
        "- fuzzywuzzy - нечеткий поиск для сопоставления названий законов\n",
        "- Pydantic - валидация и структурирование данных\n",
        "- re - регулярные выражения для парсинга"
      ]
    },
    {
      "cell_type": "code",
      "execution_count": 22,
      "id": "NnxxrM5HFUAr",
      "metadata": {
        "colab": {
          "base_uri": "https://localhost:8080/"
        },
        "id": "NnxxrM5HFUAr",
        "outputId": "0b56d37d-d1b0-46a5-f052-221dbed4fc62"
      },
      "outputs": [
        {
          "name": "stdout",
          "output_type": "stream",
          "text": [
            "Requirement already satisfied: pymorphy3 in /Users/a1111/anaconda3/lib/python3.11/site-packages (2.0.6)\n",
            "Requirement already satisfied: dawg2-python>=0.8.0 in /Users/a1111/anaconda3/lib/python3.11/site-packages (from pymorphy3) (0.9.0)\n",
            "Requirement already satisfied: pymorphy3-dicts-ru in /Users/a1111/anaconda3/lib/python3.11/site-packages (from pymorphy3) (2.4.417150.4580142)\n",
            "Requirement already satisfied: fuzzywuzzy in /Users/a1111/anaconda3/lib/python3.11/site-packages (0.18.0)\n",
            "Requirement already satisfied: pydantic in /Users/a1111/anaconda3/lib/python3.11/site-packages (2.12.3)\n",
            "Requirement already satisfied: annotated-types>=0.6.0 in /Users/a1111/anaconda3/lib/python3.11/site-packages (from pydantic) (0.7.0)\n",
            "Requirement already satisfied: pydantic-core==2.41.4 in /Users/a1111/anaconda3/lib/python3.11/site-packages (from pydantic) (2.41.4)\n",
            "Requirement already satisfied: typing-extensions>=4.14.1 in /Users/a1111/anaconda3/lib/python3.11/site-packages (from pydantic) (4.15.0)\n",
            "Requirement already satisfied: typing-inspection>=0.4.2 in /Users/a1111/anaconda3/lib/python3.11/site-packages (from pydantic) (0.4.2)\n"
          ]
        }
      ],
      "source": [
        "!pip install pymorphy3\n",
        "!pip install fuzzywuzzy\n",
        "!pip install pydantic"
      ]
    },
    {
      "cell_type": "code",
      "execution_count": 23,
      "id": "2d95bbef",
      "metadata": {
        "id": "2d95bbef"
      },
      "outputs": [],
      "source": [
        "import pymorphy3 as pym\n",
        "import re"
      ]
    },
    {
      "cell_type": "code",
      "execution_count": 24,
      "id": "104b7e83",
      "metadata": {
        "id": "104b7e83"
      },
      "outputs": [],
      "source": [
        "from fuzzywuzzy import fuzz #нечеткий поиск\n",
        "from fuzzywuzzy import process"
      ]
    },
    {
      "cell_type": "code",
      "execution_count": 25,
      "id": "e52e1b22",
      "metadata": {
        "colab": {
          "base_uri": "https://localhost:8080/"
        },
        "id": "e52e1b22",
        "outputId": "e610fa6f-d11b-46b0-fed8-4d4132179bfc"
      },
      "outputs": [
        {
          "name": "stderr",
          "output_type": "stream",
          "text": [
            "[nltk_data] Downloading package stopwords to /Users/a1111/nltk_data...\n",
            "[nltk_data]   Package stopwords is already up-to-date!\n",
            "[nltk_data] Downloading package punkt_tab to /Users/a1111/nltk_data...\n",
            "[nltk_data]   Package punkt_tab is already up-to-date!\n"
          ]
        }
      ],
      "source": [
        "import nltk\n",
        "nltk.download('stopwords')\n",
        "nltk.download('punkt_tab')\n",
        "from nltk.corpus import stopwords\n",
        "from nltk.tokenize import sent_tokenize, word_tokenize\n",
        "stopwords_ru = stopwords.words(\"russian\")"
      ]
    },
    {
      "cell_type": "code",
      "execution_count": null,
      "id": "71f2726f",
      "metadata": {
        "id": "71f2726f"
      },
      "outputs": [],
      "source": [
        "text = \"В ходе проверки декларации о доходах государственного служащего выявлены несоответствия, которые, согласно подп. 12 п. 23 ст. 164 Указа Президента РФ от 02.04.2013 «О мерах по реализации отдельных положений Федерального закона \\\"О контроле за соответствием расходов лиц, замещающих государственные должности, и иных лиц их доходам\\\"», подлежат дополнительному анализу. В связи с этим, было принято решение провести расширенное расследование в отношении указанных расходов.\""
      ]
    },
    {
      "cell_type": "code",
      "execution_count": 27,
      "id": "34a2c7a2",
      "metadata": {
        "id": "34a2c7a2"
      },
      "outputs": [],
      "source": [
        "from pymorphy3 import MorphAnalyzer\n",
        "\n",
        "def normalize_text(text: str) -> str:\n",
        "    morph = MorphAnalyzer()\n",
        "    tokens = word_tokenize(text.lower(), language='russian')\n",
        "\n",
        "    normalized_tokens = []\n",
        "    for token in tokens:\n",
        "        if re.match(r'^\\d+\\.\\d+', token) or re.match(r'^\\d+(?:\\.\\d+)+$', token):\n",
        "            normalized_tokens.append(token)\n",
        "        elif token.isdigit() or (any(c.isdigit() for c in token) and any(c.isalpha() for c in token)):\n",
        "            normalized_tokens.append(token)\n",
        "        elif token in ['ст', 'п', 'пп', 'ст.', 'п.', 'пп.', 'нк', 'гк', 'ук', 'тк', 'апк', 'бк', 'коап', 'рф', 'ч']:\n",
        "            normalized_tokens.append(token.split('.')[0])\n",
        "        elif token.isalpha() and token not in stopwords_ru:\n",
        "            parsed = morph.parse(token)[0]\n",
        "            normalized_tokens.append(parsed.normal_form)\n",
        "        # удаляем точки, которые не являются частью чисел (знаки препинания)\n",
        "        elif token != '.':\n",
        "            normalized_tokens.append(token)\n",
        "\n",
        "    return ' '.join(normalized_tokens)"
      ]
    },
    {
      "cell_type": "code",
      "execution_count": 28,
      "id": "bda895b3",
      "metadata": {
        "id": "bda895b3"
      },
      "outputs": [],
      "source": [
        "import json\n",
        "\n",
        "with open('law_aliases.json', 'r', encoding='utf-8') as f:\n",
        "    law_aliases = json.load(f)"
      ]
    },
    {
      "cell_type": "code",
      "execution_count": 29,
      "id": "a1fa04ee",
      "metadata": {
        "id": "a1fa04ee"
      },
      "outputs": [],
      "source": [
        "law_aliases_invers = {i:k for k,v in law_aliases.items() for i in v}"
      ]
    },
    {
      "cell_type": "code",
      "execution_count": 30,
      "id": "bf0bd1e6",
      "metadata": {
        "id": "bf0bd1e6"
      },
      "outputs": [],
      "source": [
        "from pydantic import BaseModel\n",
        "import json\n",
        "from typing import List, Optional, Dict\n",
        "\n",
        "class LawLink(BaseModel):\n",
        "    law_id: Optional[int] = None\n",
        "    article: Optional[str] = None\n",
        "    point_article: Optional[str] = None\n",
        "    subpoint_article: Optional[str] = None"
      ]
    },
    {
      "cell_type": "code",
      "execution_count": 31,
      "id": "8b07ee3e",
      "metadata": {
        "id": "8b07ee3e"
      },
      "outputs": [],
      "source": [
        "def extract_multiple_entities(raw: str):\n",
        "    clean_subpoint = re.sub(r'[^\\dа-я,\\s\\.\\-]', '', raw.lower())\n",
        "\n",
        "    clean_subpoint = re.sub(r'(?<!\\d)\\.(?!\\d)', '', clean_subpoint)\n",
        "\n",
        "    parts = re.split(r'[,и]', clean_subpoint)\n",
        "\n",
        "    entities = []\n",
        "    for part in parts:\n",
        "        part = part.strip()\n",
        "        if part:\n",
        "            entities.append(part)\n",
        "\n",
        "    return entities if entities else [raw]"
      ]
    },
    {
      "cell_type": "code",
      "execution_count": 32,
      "id": "c099f9ff",
      "metadata": {
        "id": "c099f9ff"
      },
      "outputs": [],
      "source": [
        "def find_law_id_fuzzy(law_name):\n",
        "    max_score = 0\n",
        "    for law_key in law_aliases_invers.keys():\n",
        "        lev_score = fuzz.partial_ratio(law_name, law_key.lower())\n",
        "        if lev_score > max_score:\n",
        "            max_score = lev_score\n",
        "            res_key = law_key\n",
        "    if max_score < 90:\n",
        "        return None\n",
        "    else:\n",
        "        return law_aliases_invers[res_key]\n",
        "\n",
        "\n",
        "def process_match(match, context):\n",
        "    references = []\n",
        "    groups = match.groups()\n",
        "\n",
        "    articles = []\n",
        "    point_articles = []\n",
        "    subpoint_articles = []\n",
        "\n",
        "    if match.group('пункт_номера') is  None:\n",
        "      point_articles = [None]\n",
        "      if match.group('часть_номера') is not None:\n",
        "        if ',' in match.group('часть_номера') or 'и' in match.group('часть_номера'):\n",
        "          point_articles = extract_multiple_entities(match.group('часть_номера'))\n",
        "        else:\n",
        "          point_articles = [match.group('часть_номера')]\n",
        "      else:\n",
        "        point_articles = [None]\n",
        "    else:\n",
        "      if ',' in match.group('пункт_номера') or 'и' in match.group('пункт_номера'):\n",
        "          point_articles = extract_multiple_entities(match.group('пункт_номера'))\n",
        "      else:\n",
        "          point_articles = [match.group('пункт_номера')]\n",
        "\n",
        "    if match.group('подпункт_номера') is  None:\n",
        "      subpoint_articles = [None]\n",
        "    else:\n",
        "      if ',' in match.group('подпункт_номера') or 'и' in match.group('подпункт_номера'):\n",
        "          subpoint_articles = extract_multiple_entities(match.group('подпункт_номера'))\n",
        "      else:\n",
        "          subpoint_articles = [match.group('подпункт_номера')]\n",
        "\n",
        "    if match.group('статья_номера') is  None:\n",
        "      articles = [None]\n",
        "    else:\n",
        "      if ',' in match.group('статья_номера') or 'и' in match.group('статья_номера'):\n",
        "          articles = extract_multiple_entities(match.group('статья_номера'))\n",
        "      else:\n",
        "          articles = [match.group('статья_номера')]\n",
        "\n",
        "    law_id = find_law_id_fuzzy(match.group('остальное'))\n",
        "\n",
        "\n",
        "    for article in articles:\n",
        "      for point_article in point_articles:\n",
        "        for subpoint_article in subpoint_articles:\n",
        "          reference = LawLink(\n",
        "                      law_id=law_id,\n",
        "                      article=article,\n",
        "                      point_article=point_article,\n",
        "                      subpoint_article=subpoint_article)\n",
        "          print(reference)\n",
        "\n",
        "          references.append(reference)\n",
        "\n",
        "\n",
        "    return references"
      ]
    },
    {
      "cell_type": "code",
      "execution_count": 33,
      "id": "307cdd6f",
      "metadata": {
        "id": "307cdd6f"
      },
      "outputs": [],
      "source": [
        "def find_references_in_text(original_text: str) -> List[LawLink]:\n",
        "    references = []\n",
        "\n",
        "    patterns = [\n",
        "    # Паттерн для парсинга структуры ссылки\n",
        "    r'(?:в\\s+)?(?:(?P<подпункт_ключ>пп\\.|подпункт[а-я]{0,7}|подп\\.)\\s*(?P<подпункт_номера>(?:\\d{1,4}[а-я]?|[а-я])(?:\\s*,\\s*(?:\\d{1,4}[а-я]?|[а-я]))*(?:\\s*и\\s*(?:\\d{1,4}[а-я]?|[а-я]))?)\\s+)?'\n",
        "    r'(?:в\\s+)?(?:(?P<пункт_ключ>п\\.|пункт[а-я]{0,5}|пунт[а-я]{0,5})\\s*(?P<пункт_номера>(?:\\d{1,4}(?:[\\.\\-]\\d{1,3})*[а-я]?|[а-я])(?:\\s*,\\s*(?:\\d{1,4}(?:[\\.\\-]\\d{1,3})*[а-я]?|[а-я]))*(?:\\s*и\\s*(?:\\d{1,4}(?:[\\.\\-]\\d{1,3})*[а-я]?|[а-я]))?)\\s+)?'\n",
        "    r'(?:в\\s+)?(?:(?P<часть_ключ>ч\\.|част[ьи])\\s*(?P<часть_номера>(?:\\d{1,3}(?:\\.\\d{1,3})?|[а-я])(?:\\s*,\\s*(?:\\d{1,3}(?:\\.\\d{1,3})?|[а-я]))*(?:\\s*и\\s*(?:\\d{1,3}(?:\\.\\d{1,3})?|[а-я]))?)(?:\\s*,\\s*)?\\s+)?'\n",
        "    r'(?:в\\s+)?(?:(?P<статья_ключ>ст\\.|стать[ейиюя]|статей?|статья)\\s*(?:(?:в|на|по)\\s+)?(?P<статья_номера>(?:\\d{1,4}(?:[\\.\\-]\\d{1,3})*[а-я]?)(?:\\s*,\\s*(?:\\d{1,4}(?:[\\.\\-]\\d{1,3})*[а-я]?))*(?:\\s*и\\s*(?:\\d{1,4}(?:[\\.\\-]\\d{1,3})*[а-я]?))?)\\s+)?'\n",
        "    r'(?P<остальное>(?:'\n",
        "    # Кодексы\n",
        "    r'(?:Арбитражн(?:ого|ый)\\s+процессуальн(?:ого|ый)|Бюджетн(?:ого|ый)|Водн(?:ого|ый)|Воздушн(?:ого|ый)|Градостроительн(?:ого|ый)|Гражданск(?:ого|ий)|Гражданск(?:ого|ий)\\s+процессуальн(?:ого|ый)|Жилищн(?:ого|ый)|Семейн(?:ого|ый)|Таможенн(?:ого|ый)|Трудов(?:ого|ой)|Уголовно-исполнительн(?:ого|ый)|Уголовно-процессуальн(?:ого|ый)|Уголовн(?:ого|ый)|Лесн(?:ого|ой)|Налогов(?:ого|ый)|Земельн(?:ого|ый))\\s+кодекс(?:а|)(?:\\s+Российской Федерации|\\s+России|\\s+РФ|)'\n",
        "    # Аббревиатуры\n",
        "    r'|АПК(?:\\s+(?:России|РФ))?|БК(?:\\s+(?:России|РФ))?|ГК(?:\\s+РФ)?|ГПК(?:\\s+(?:России|РФ))?|ЖК(?:\\s+(?:России|РФ))?|СК(?:\\s+(?:России|РФ))?|ТК(?:\\s+РФ)?'\n",
        "    r'|УИК(?:\\s+(?:России|РФ))?|УПК(?:\\s+(?:России|РФ))?|УК(?:\\s+(?:России|РФ))?|ЛК(?:\\s+(?:России|РФ))?|НК(?:\\s+(?:России|РФ))?|ЗК(?:\\s+(?:России|РФ))?'\n",
        "    # Кодексы об административных правонарушениях\n",
        "    r'|Кодекс(?:а|)(?:\\s+Российской Федерации|\\s+России|\\s+РФ|)?\\s+об\\s+административных\\s+правонарушениях|КоАП(?:\\s+Российской Федерации|\\s+России|\\s+РФ|)?'\n",
        "    # Другие кодексы\n",
        "    r'|Кодекс(?:а|)\\s+административного\\s+судопроизводства(?:\\s+Российской Федерации|\\s+России|\\s+РФ|)?'\n",
        "    r'|Кодекс(?:а|)\\s+внутреннего\\s+водного\\s+транспорта(?:\\s+Российской Федерации|\\s+России|\\s+РФ|)?'\n",
        "    r'|Кодекс(?:а|)\\s+торгового\\s+мореплавания(?:\\s+Российской Федерации|\\s+России|\\s+РФ|)?'\n",
        "    # Указы Президента\n",
        "    r'|Указ(?:а|)(?:\\s+Президента(?:\\s+Российской Федерации|\\s+России|\\s+РФ|)?)?(?:\\s+(?:№?\\s*\\d+|\\s*от\\s*\\d{2}\\.\\d{2}\\.\\d{4}))?(?:\\s*«[^»]*»)?'\n",
        "    # Распоряжения Президента\n",
        "    r'|Распоряжени(?:я|е)(?:\\s+Президента(?:\\s+Российской Федерации|\\s+России|\\s+РФ|)?)?(?:\\s+(?:№?\\s*\\d+-\\s*рп|от\\s*\\d{2}\\.\\d{2}\\.\\d{4}))?(?:\\s*«[^»]*»)?'\n",
        "    r'|РП(?:\\s+(?:№?\\s*\\d+-\\s*рп|от\\s*\\d{2}\\.\\d{2}\\.\\d{4}))?(?:\\s*«[^»]*»)?'\n",
        "    # Федеральные законы\n",
        "    r'|Федеральн(?:ого|ый)\\s+закон(?:а|)(?:\\s+[^,\\.;]*)?'\n",
        "    r'|ФЗ(?:\\s+[^,\\.;]*)?'\n",
        "\n",
        "    r'|Закона\\s+«[^»]*»'\n",
        "    r'|Закона\\s+\"[^\"]*\"'\n",
        "    # Конституция\n",
        "    r'|Конституци(?:и|я)(?:\\s+РФ|\\s+России|\\s+Российской Федерации)?'\n",
        "    # Основы законодательства\n",
        "    r'|Основы\\s+законодательства(?:\\s+(?:Российской\\s+Федерации|России|РФ))?(?:\\s+№?\\s*\\d+(?:-I)?)?(?:\\s+от\\s+\\d{2}\\.\\d{2}\\.\\d{4})?(?:\\s*«[^»]*»)?'\n",
        "    # Законы Российской Федерации\n",
        "    r'|Закон(?:\\s+(?:Российской\\s+Федерации|России|РФ))?(?:\\s+№?\\s*\\d+(?:-I)?)?(?:\\s+от\\s+\\d{2}\\.\\d{2}\\.\\d{4})?(?:\\s*«[^»]*»)?'\n",
        "    # Федеральные стандарты бухгалтерского учета\n",
        "    r'|Федеральный\\s+стандарт\\s+бухгалтерского\\s+учета(?:\\s+(?:государственных\\s+финансов|для\\s+организаций\\s+государственного\\s+сектора))?(?:\\s+ФСБУ\\s*\\d+(?:\\/\\d{4})?)?(?:\\s*«[^»]*»)?'\n",
        "    r'|ФСБУ(?:\\s+(?:государственных\\s+финансов|для\\s+организаций\\s+государственного\\s+сектора))?(?:\\s*\\d+(?:\\/\\d{4})?)?(?:\\s*«[^»]*»)?'\n",
        "    # Положения по бухгалтерскому учету\n",
        "    r'|Положение\\s+по\\s+бухгалтерскому\\s+учету(?:\\s+ПБУ\\s*\\d+(?:\\/\\d{4})?)?(?:\\s*«[^»]*»)?'\n",
        "    r'|ПБУ(?:\\s*\\d+(?:\\/\\d{4})?)?(?:\\s*«[^»]*»)?'\n",
        "    # Положение по ведению бухгалтерского учета\n",
        "    r'|Положени(?:я|е)\\s+по\\s+ведению\\s+бухгалтерского\\s+учета\\s+и\\s+бухгалтерской\\s+отчетности\\s+в\\s+Российской\\s+Федерации'\n",
        "\n",
        "    r')'\n",
        "    r'(?=\\s|,|\\.|;|$))'\n",
        "]\n",
        "\n",
        "\n",
        "    all_matches = []\n",
        "    for pattern in patterns:\n",
        "        matches = re.finditer(pattern, original_text, re.IGNORECASE)\n",
        "        all_matches.append(matches)\n",
        "\n",
        "    # Удаляем дубликаты и выводим\n",
        "    unique_matches = list(dict.fromkeys(all_matches))\n",
        "\n",
        "    iter = 0\n",
        "    for matches in unique_matches:\n",
        "      for match in matches:\n",
        "        iter += 1\n",
        "        print(iter, match.groups())\n",
        "        references.extend(process_match(match, original_text))\n",
        "\n",
        "    return references"
      ]
    },
    {
      "cell_type": "code",
      "execution_count": 34,
      "id": "1c59ced5",
      "metadata": {
        "id": "1c59ced5"
      },
      "outputs": [],
      "source": [
        "def extract_legal_references_advanced(text: str):\n",
        "    references = []\n",
        "\n",
        "    #norm_text = normalize_text(text)\n",
        "\n",
        "    sentence_references = find_references_in_text(text)\n",
        "    references.extend(sentence_references)\n",
        "\n",
        "    return references"
      ]
    },
    {
      "cell_type": "code",
      "execution_count": 46,
      "id": "c82c85b1",
      "metadata": {},
      "outputs": [],
      "source": [
        "text_2=\"Во время проверки воздушного судна была обнаружена необходимость уточнения некоторых процедур. В соответствии с пп. и п. 24 ст. 489 Воздушного кодекса РФ, инспектор обязал авиакомпанию провести дополнительные меры безопасности. Эти меры направлены на обеспечение максимальной защиты пассажиров и экипажа.\""
      ]
    },
    {
      "cell_type": "code",
      "execution_count": 47,
      "id": "6ec656cb",
      "metadata": {},
      "outputs": [
        {
          "name": "stdout",
          "output_type": "stream",
          "text": [
            "1 ('пп.', 'и', 'п.', '24', None, None, 'ст.', '489', 'Воздушного кодекса РФ')\n",
            "law_id=None article='489' point_article='24' subpoint_article='и'\n"
          ]
        }
      ],
      "source": [
        "# рандомного кодекса не учитывается, так как это ложная ссылка\n",
        "result = extract_legal_references_advanced(text_2)"
      ]
    },
    {
      "cell_type": "code",
      "execution_count": 35,
      "id": "8d215548",
      "metadata": {
        "colab": {
          "base_uri": "https://localhost:8080/"
        },
        "id": "8d215548",
        "outputId": "80187343-32cf-4286-c196-e97453e142d0"
      },
      "outputs": [
        {
          "name": "stdout",
          "output_type": "stream",
          "text": [
            "1 ('подп.', '12', 'п.', '23', None, None, 'ст.', '164', 'Указа Президента РФ от 02.04.2013 «О мерах по реализации отдельных положений Федерального закона \"О контроле за соответствием расходов лиц, замещающих государственные должности, и иных лиц их доходам\"»')\n",
            "law_id=218 article='164' point_article='23' subpoint_article='12'\n"
          ]
        }
      ],
      "source": [
        "# рандомного кодекса не учитывается, так как это ложная ссылка\n",
        "result = extract_legal_references_advanced(text)"
      ]
    },
    {
      "cell_type": "code",
      "execution_count": 36,
      "id": "B5r2OrS1GIun",
      "metadata": {
        "colab": {
          "base_uri": "https://localhost:8080/"
        },
        "id": "B5r2OrS1GIun",
        "outputId": "eba58082-3079-498e-e72f-81af3b0cff57"
      },
      "outputs": [
        {
          "data": {
            "text/plain": [
              "[LawLink(law_id=218, article='164', point_article='23', subpoint_article='12')]"
            ]
          },
          "execution_count": 36,
          "metadata": {},
          "output_type": "execute_result"
        }
      ],
      "source": [
        "result"
      ]
    },
    {
      "cell_type": "code",
      "execution_count": 37,
      "id": "07a405b3",
      "metadata": {
        "colab": {
          "base_uri": "https://localhost:8080/",
          "height": 70
        },
        "id": "07a405b3",
        "outputId": "324d0b92-fce3-4b92-a909-19d24104fd69"
      },
      "outputs": [
        {
          "data": {
            "text/plain": [
              "\"в ход проверка декларация о доход государственный служащий выявить несоответствие , который , согласно подп. 12 п 23 ст 164 указ президент рф от 02.04.2013 « о мера по реализация отдельный положение федеральный закон `` о контроль за соответствие расход лицо , замещать государственный должность , и иной лицо их доход '' » , подлежать дополнительный анализ в связь с это , было принять решение провести расширить расследование в отношение указанный расход\""
            ]
          },
          "execution_count": 37,
          "metadata": {},
          "output_type": "execute_result"
        }
      ],
      "source": [
        "norm_text = normalize_text(text)\n",
        "norm_text"
      ]
    },
    {
      "cell_type": "code",
      "execution_count": 38,
      "id": "1801b828",
      "metadata": {
        "id": "1801b828"
      },
      "outputs": [],
      "source": [
        "answers = ['пп. 1 п. 1 ст. 374 НК РФ',\n",
        "'ст. 105 УК РФ',\n",
        "'п.  10 АПК',\n",
        "'статье 17 Конституции Российской Федерации',\n",
        "'п. 5 ст. 105 УК РФ',\n",
        "'п. 3 ст. 158 УК РФ',\n",
        "'ст. 30 Гражданского кодекса Российской Федерации',\n",
        "'пп. 12 п. 4 ст. 159 УК РФ',\n",
        "'п. 2 ст. 228 УК РФ',\n",
        "'ст. 275 Налогового Кодекса Российской Федерации',\n",
        "' ст. 90 Семейного кодекса Российской Федерации',\n",
        "'ст. 70 Трудового кодекса Российской Федерации',\n",
        "'с п. 1 ст. 213 Гражданского процессуального кодекса',\n",
        "'статье 16 Закона \"О защите прав потребителей\"',\n",
        "'п. 2 ст. 14 Закона \"О персональных данных\"',\n",
        "'ст. 19 Федерального закона \"О бухгалтерском учёте\",',\n",
        "'п. р ст. 9 Федерального закона \"О государственной регистрации юридических лиц и индивидуальных предпринимателей\"',\n",
        "'п. 1 ст. 16 Закона \"О защите прав юридических лиц и индивидуальных предпринимателей при осуществлении государственного контроля (надзора) и муниципального контроля\"',\n",
        "'2 пунта б статьи 22 Федерального закона \"О государственной гражданской службе Российской Федерации\"',\n",
        "'ст. 12 Федерального закона \"О защите конкуренции\"',\n",
        "'Согласно п. 3 статьи 20 Федерального закона \"О полиции\"',\n",
        "'пп. 4, 5, 6 и 8 п. 1 ст. 14 Федерального закона \"О государственной регистрации недвижимости\"',\n",
        "'ст. 37 ФЗ №20-456',\n",
        "'ст. 6 Федерального закона \"О банках и банковской деятельности\"',\n",
        "'пункте 1 статьи 34 Гражданского Кодекса',\n",
        "'пп. 1 п. 2 ст. 34 рандомного кодекса ',\n",
        "'подпунктах а, б и с пункта 3.345, 23 в статье 66 НК РФ',\n",
        "'3, ст. 30.1 КоАП РФ',\n",
        "'ст. 211 АПК РФ ']"
      ]
    },
    {
      "cell_type": "code",
      "execution_count": 39,
      "id": "bb3867ab",
      "metadata": {
        "colab": {
          "base_uri": "https://localhost:8080/"
        },
        "id": "bb3867ab",
        "outputId": "75ed6a40-0bb7-436c-bafe-b13c40982555"
      },
      "outputs": [
        {
          "data": {
            "text/plain": [
              "29"
            ]
          },
          "execution_count": 39,
          "metadata": {},
          "output_type": "execute_result"
        }
      ],
      "source": [
        "len(answers)"
      ]
    },
    {
      "cell_type": "code",
      "execution_count": 40,
      "id": "b204abb9",
      "metadata": {
        "colab": {
          "base_uri": "https://localhost:8080/"
        },
        "id": "b204abb9",
        "outputId": "3605c255-0b8d-44c2-a19c-0f28f80d28ef"
      },
      "outputs": [
        {
          "data": {
            "text/plain": [
              "1"
            ]
          },
          "execution_count": 40,
          "metadata": {},
          "output_type": "execute_result"
        }
      ],
      "source": [
        "len(result)"
      ]
    },
    {
      "cell_type": "code",
      "execution_count": 41,
      "id": "e968d10a",
      "metadata": {
        "colab": {
          "base_uri": "https://localhost:8080/"
        },
        "id": "e968d10a",
        "outputId": "391b5985-6302-4a30-a82d-b2cf2af703f9"
      },
      "outputs": [
        {
          "data": {
            "text/plain": [
              "[LawLink(law_id=218, article='164', point_article='23', subpoint_article='12')]"
            ]
          },
          "execution_count": 41,
          "metadata": {},
          "output_type": "execute_result"
        }
      ],
      "source": [
        "result"
      ]
    }
  ],
  "metadata": {
    "colab": {
      "provenance": []
    },
    "kernelspec": {
      "display_name": "base",
      "language": "python",
      "name": "python3"
    },
    "language_info": {
      "codemirror_mode": {
        "name": "ipython",
        "version": 3
      },
      "file_extension": ".py",
      "mimetype": "text/x-python",
      "name": "python",
      "nbconvert_exporter": "python",
      "pygments_lexer": "ipython3",
      "version": "3.11.4"
    }
  },
  "nbformat": 4,
  "nbformat_minor": 5
}
